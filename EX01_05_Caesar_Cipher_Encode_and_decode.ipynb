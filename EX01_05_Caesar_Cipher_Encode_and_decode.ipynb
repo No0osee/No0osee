{
  "nbformat": 4,
  "nbformat_minor": 0,
  "metadata": {
    "colab": {
      "provenance": [],
      "authorship_tag": "ABX9TyNMRNZHt8VnbwbrinEpACz8",
      "include_colab_link": true
    },
    "kernelspec": {
      "name": "python3",
      "display_name": "Python 3"
    },
    "language_info": {
      "name": "python"
    }
  },
  "cells": [
    {
      "cell_type": "markdown",
      "metadata": {
        "id": "view-in-github",
        "colab_type": "text"
      },
      "source": [
        "<a href=\"https://colab.research.google.com/github/SeanLPG/No0osee/blob/main/EX01_05_Caesar_Cipher_Encode_and_decode.ipynb\" target=\"_parent\"><img src=\"https://colab.research.google.com/assets/colab-badge.svg\" alt=\"Open In Colab\"/></a>"
      ]
    },
    {
      "cell_type": "code",
      "execution_count": 2,
      "metadata": {
        "colab": {
          "base_uri": "https://localhost:8080/"
        },
        "id": "i152L1Z9Cq69",
        "outputId": "2011a210-200b-47d6-f7fc-fc4979832b24"
      },
      "outputs": [
        {
          "output_type": "stream",
          "name": "stdout",
          "text": [
            "e8\n",
            "you had me at hello\n",
            "w}(pil(um(i|(pmttw\n"
          ]
        }
      ],
      "source": [
        "act = input()\n",
        "txt = input()\n",
        "\n",
        "act_type = act[0]\n",
        "key = int(act[1:])\n",
        "ntxt = ''\n",
        "if act_type == 'd':\n",
        "  for c in txt:\n",
        "    nc = ord(c)-key\n",
        "    ntxt=ntxt+chr(nc)\n",
        "else:\n",
        "  for c in txt:\n",
        "    nc = ord(c)+key\n",
        "    ntxt=ntxt+chr(nc)\n",
        "print(ntxt)\n"
      ]
    }
  ]
}