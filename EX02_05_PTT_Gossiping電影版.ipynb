{
  "nbformat": 4,
  "nbformat_minor": 0,
  "metadata": {
    "colab": {
      "provenance": [],
      "authorship_tag": "ABX9TyP9Z3wdT9UxgqYN4U+0lVwd",
      "include_colab_link": true
    },
    "kernelspec": {
      "name": "python3",
      "display_name": "Python 3"
    },
    "language_info": {
      "name": "python"
    }
  },
  "cells": [
    {
      "cell_type": "markdown",
      "metadata": {
        "id": "view-in-github",
        "colab_type": "text"
      },
      "source": [
        "<a href=\"https://colab.research.google.com/github/SeanLPG/No0osee/blob/main/EX02_05_PTT_Gossiping%E9%9B%BB%E5%BD%B1%E7%89%88.ipynb\" target=\"_parent\"><img src=\"https://colab.research.google.com/assets/colab-badge.svg\" alt=\"Open In Colab\"/></a>"
      ]
    },
    {
      "cell_type": "code",
      "execution_count": 3,
      "metadata": {
        "colab": {
          "base_uri": "https://localhost:8080/"
        },
        "id": "13JUUttL-2d4",
        "outputId": "430e2e13-3bc4-4898-cfe2-84a1631ddee8"
      },
      "outputs": [
        {
          "output_type": "execute_result",
          "data": {
            "text/plain": [
              "200"
            ]
          },
          "metadata": {},
          "execution_count": 3
        }
      ],
      "source": [
        "import requests\n",
        "from bs4 import BeautifulSoup\n",
        "\n",
        "url = \"https://www.ptt.cc/bbs/movie/index.html\"\n",
        "response=requests.get(url)\n",
        "response.status_code"
      ]
    },
    {
      "cell_type": "code",
      "source": [
        "soup = BeautifulSoup(response.text, \"lxml\")\n",
        "soup.title"
      ],
      "metadata": {
        "colab": {
          "base_uri": "https://localhost:8080/"
        },
        "id": "iHcFwOX3ApbF",
        "outputId": "8aa4f0f6-9453-460e-ed0f-bba5514c894c"
      },
      "execution_count": 5,
      "outputs": [
        {
          "output_type": "execute_result",
          "data": {
            "text/plain": [
              "<title>看板 movie 文章列表 - 批踢踢實業坊</title>"
            ]
          },
          "metadata": {},
          "execution_count": 5
        }
      ]
    },
    {
      "cell_type": "code",
      "source": [
        "for atcl in soup.find_all(\"div\", class_=\"r-ent\"):\n",
        "  ttle=atcl.find(\"div\", class_=\"title\").a.text\n",
        "  href=\"https://www.ptt.cc\"+atcl.find(\"div\", class_=\"title\").a.get(\"href\")\n",
        "  data=atcl.find(\"div\", class_=\"date\").text\n",
        "  print(data,href,ttle)\n",
        ""
      ],
      "metadata": {
        "colab": {
          "base_uri": "https://localhost:8080/"
        },
        "id": "6mUduvl5EamD",
        "outputId": "2c0395b2-a80f-4d35-b0cb-2fa4f7bbb882"
      },
      "execution_count": 7,
      "outputs": [
        {
          "output_type": "stream",
          "name": "stdout",
          "text": [
            " 3/25 https://www.ptt.cc/bbs/movie/M.1742882992.A.C16.html [請益] 月老 原著比電影好看很多嗎?\n",
            " 3/25 https://www.ptt.cc/bbs/movie/M.1742883654.A.D09.html [新聞] 星際寶貝選角太白爭議\n",
            " 9/04 https://www.ptt.cc/bbs/movie/M.1630756788.A.1FE.html [公告] 電影板板規 2022/12/5\n",
            " 9/15 https://www.ptt.cc/bbs/movie/M.1694784041.A.89F.html [公告] 禁政治版規 及 投票結果\n"
          ]
        }
      ]
    }
  ]
}